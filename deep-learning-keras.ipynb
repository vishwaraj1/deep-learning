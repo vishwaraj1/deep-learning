{
 "cells": [
  {
   "cell_type": "code",
   "execution_count": 31,
   "metadata": {},
   "outputs": [],
   "source": [
    "import pandas as pd\n",
    "import numpy as np\n",
    "import seaborn as sns\n",
    "import matplotlib.pyplot as plt\n",
    "%matplotlib inline"
   ]
  },
  {
   "cell_type": "code",
   "execution_count": 4,
   "metadata": {},
   "outputs": [
    {
     "data": {
      "text/html": [
       "<div>\n",
       "<style scoped>\n",
       "    .dataframe tbody tr th:only-of-type {\n",
       "        vertical-align: middle;\n",
       "    }\n",
       "\n",
       "    .dataframe tbody tr th {\n",
       "        vertical-align: top;\n",
       "    }\n",
       "\n",
       "    .dataframe thead th {\n",
       "        text-align: right;\n",
       "    }\n",
       "</style>\n",
       "<table border=\"1\" class=\"dataframe\">\n",
       "  <thead>\n",
       "    <tr style=\"text-align: right;\">\n",
       "      <th></th>\n",
       "      <th>RowNumber</th>\n",
       "      <th>CustomerId</th>\n",
       "      <th>Surname</th>\n",
       "      <th>CreditScore</th>\n",
       "      <th>Geography</th>\n",
       "      <th>Gender</th>\n",
       "      <th>Age</th>\n",
       "      <th>Tenure</th>\n",
       "      <th>Balance</th>\n",
       "      <th>NumOfProducts</th>\n",
       "      <th>HasCrCard</th>\n",
       "      <th>IsActiveMember</th>\n",
       "      <th>EstimatedSalary</th>\n",
       "      <th>Exited</th>\n",
       "    </tr>\n",
       "  </thead>\n",
       "  <tbody>\n",
       "    <tr>\n",
       "      <th>0</th>\n",
       "      <td>1</td>\n",
       "      <td>15634602</td>\n",
       "      <td>Hargrave</td>\n",
       "      <td>619</td>\n",
       "      <td>France</td>\n",
       "      <td>Female</td>\n",
       "      <td>42</td>\n",
       "      <td>2</td>\n",
       "      <td>0.00</td>\n",
       "      <td>1</td>\n",
       "      <td>1</td>\n",
       "      <td>1</td>\n",
       "      <td>101348.88</td>\n",
       "      <td>1</td>\n",
       "    </tr>\n",
       "    <tr>\n",
       "      <th>1</th>\n",
       "      <td>2</td>\n",
       "      <td>15647311</td>\n",
       "      <td>Hill</td>\n",
       "      <td>608</td>\n",
       "      <td>Spain</td>\n",
       "      <td>Female</td>\n",
       "      <td>41</td>\n",
       "      <td>1</td>\n",
       "      <td>83807.86</td>\n",
       "      <td>1</td>\n",
       "      <td>0</td>\n",
       "      <td>1</td>\n",
       "      <td>112542.58</td>\n",
       "      <td>0</td>\n",
       "    </tr>\n",
       "  </tbody>\n",
       "</table>\n",
       "</div>"
      ],
      "text/plain": [
       "   RowNumber  CustomerId   Surname  CreditScore Geography  Gender  Age  \\\n",
       "0          1    15634602  Hargrave          619    France  Female   42   \n",
       "1          2    15647311      Hill          608     Spain  Female   41   \n",
       "\n",
       "   Tenure   Balance  NumOfProducts  HasCrCard  IsActiveMember  \\\n",
       "0       2      0.00              1          1               1   \n",
       "1       1  83807.86              1          0               1   \n",
       "\n",
       "   EstimatedSalary  Exited  \n",
       "0        101348.88       1  \n",
       "1        112542.58       0  "
      ]
     },
     "execution_count": 4,
     "metadata": {},
     "output_type": "execute_result"
    }
   ],
   "source": [
    "df = pd.read_csv('Churn_Modelling.csv')\n",
    "df.head(2)"
   ]
  },
  {
   "cell_type": "code",
   "execution_count": 12,
   "metadata": {},
   "outputs": [],
   "source": [
    "#df.isnull().sum()"
   ]
  },
  {
   "cell_type": "code",
   "execution_count": 11,
   "metadata": {},
   "outputs": [],
   "source": [
    "#df.info()"
   ]
  },
  {
   "cell_type": "code",
   "execution_count": 9,
   "metadata": {},
   "outputs": [],
   "source": [
    "#df.describe()"
   ]
  },
  {
   "cell_type": "code",
   "execution_count": 10,
   "metadata": {},
   "outputs": [],
   "source": [
    "#df.corr()"
   ]
  },
  {
   "cell_type": "code",
   "execution_count": 13,
   "metadata": {},
   "outputs": [
    {
     "data": {
      "text/plain": [
       "France     5014\n",
       "Germany    2509\n",
       "Spain      2477\n",
       "Name: Geography, dtype: int64"
      ]
     },
     "execution_count": 13,
     "metadata": {},
     "output_type": "execute_result"
    }
   ],
   "source": [
    "df['Geography'].value_counts()"
   ]
  },
  {
   "cell_type": "code",
   "execution_count": 16,
   "metadata": {},
   "outputs": [],
   "source": [
    "x = df.iloc[:, 3:13]\n",
    "y = df.iloc[:, 13]"
   ]
  },
  {
   "cell_type": "code",
   "execution_count": 17,
   "metadata": {},
   "outputs": [],
   "source": [
    "geography=pd.get_dummies(x[\"Geography\"],drop_first=True)\n",
    "gender=pd.get_dummies(x['Gender'],drop_first=True)\n"
   ]
  },
  {
   "cell_type": "code",
   "execution_count": 19,
   "metadata": {},
   "outputs": [],
   "source": [
    "x=pd.concat([x,gender,geography],axis=1)"
   ]
  },
  {
   "cell_type": "code",
   "execution_count": 20,
   "metadata": {},
   "outputs": [],
   "source": [
    "x=x.drop(['Geography','Gender'],axis=1)"
   ]
  },
  {
   "cell_type": "code",
   "execution_count": 21,
   "metadata": {},
   "outputs": [],
   "source": [
    "from sklearn.preprocessing import StandardScaler\n",
    "sc=StandardScaler()\n",
    "x=sc.fit_transform(x)"
   ]
  },
  {
   "cell_type": "code",
   "execution_count": 23,
   "metadata": {},
   "outputs": [],
   "source": [
    "from sklearn.model_selection import train_test_split\n",
    "X_train, X_test, y_train, y_test = train_test_split(x, y, test_size = 0.2, random_state = 0)"
   ]
  },
  {
   "cell_type": "code",
   "execution_count": 24,
   "metadata": {},
   "outputs": [
    {
     "name": "stderr",
     "output_type": "stream",
     "text": [
      "Using TensorFlow backend.\n"
     ]
    }
   ],
   "source": [
    "import keras\n",
    "from keras.models import Sequential\n",
    "from keras.layers import Dense\n",
    "from keras.layers import LeakyReLU,PReLU,ELU\n",
    "from keras.layers import Dropout"
   ]
  },
  {
   "cell_type": "code",
   "execution_count": 25,
   "metadata": {},
   "outputs": [],
   "source": [
    "classifier = Sequential()"
   ]
  },
  {
   "cell_type": "code",
   "execution_count": null,
   "metadata": {},
   "outputs": [],
   "source": [
    "# Adding the input layer and the first hidden layer"
   ]
  },
  {
   "cell_type": "code",
   "execution_count": 26,
   "metadata": {},
   "outputs": [
    {
     "name": "stderr",
     "output_type": "stream",
     "text": [
      "C:\\Users\\vishwaraj\\AppData\\Local\\Continuum\\anaconda3\\lib\\site-packages\\ipykernel_launcher.py:1: UserWarning: Update your `Dense` call to the Keras 2 API: `Dense(activation=\"relu\", input_dim=11, units=6, kernel_initializer=\"he_uniform\")`\n",
      "  \"\"\"Entry point for launching an IPython kernel.\n"
     ]
    }
   ],
   "source": [
    "classifier.add(Dense(output_dim = 6, init = 'he_uniform',activation='relu',input_dim = 11))"
   ]
  },
  {
   "cell_type": "code",
   "execution_count": 27,
   "metadata": {},
   "outputs": [
    {
     "name": "stderr",
     "output_type": "stream",
     "text": [
      "C:\\Users\\vishwaraj\\AppData\\Local\\Continuum\\anaconda3\\lib\\site-packages\\ipykernel_launcher.py:2: UserWarning: Update your `Dense` call to the Keras 2 API: `Dense(activation=\"relu\", units=6, kernel_initializer=\"he_uniform\")`\n",
      "  \n"
     ]
    }
   ],
   "source": [
    "# Adding the second hidden layer\n",
    "classifier.add(Dense(output_dim = 6, init = 'he_uniform',activation='relu'))"
   ]
  },
  {
   "cell_type": "code",
   "execution_count": 28,
   "metadata": {},
   "outputs": [
    {
     "name": "stderr",
     "output_type": "stream",
     "text": [
      "C:\\Users\\vishwaraj\\AppData\\Local\\Continuum\\anaconda3\\lib\\site-packages\\ipykernel_launcher.py:2: UserWarning: Update your `Dense` call to the Keras 2 API: `Dense(activation=\"sigmoid\", units=1, kernel_initializer=\"glorot_uniform\")`\n",
      "  \n"
     ]
    }
   ],
   "source": [
    "# Adding the output layer\n",
    "classifier.add(Dense(output_dim = 1, init = 'glorot_uniform', activation = 'sigmoid'))"
   ]
  },
  {
   "cell_type": "code",
   "execution_count": 29,
   "metadata": {},
   "outputs": [],
   "source": [
    "# Compiling the ANN\n",
    "classifier.compile(optimizer = 'Adamax', loss = 'binary_crossentropy', metrics = ['accuracy'])"
   ]
  },
  {
   "cell_type": "code",
   "execution_count": 30,
   "metadata": {},
   "outputs": [
    {
     "name": "stderr",
     "output_type": "stream",
     "text": [
      "C:\\Users\\vishwaraj\\AppData\\Local\\Continuum\\anaconda3\\lib\\site-packages\\ipykernel_launcher.py:1: UserWarning: The `nb_epoch` argument in `fit` has been renamed `epochs`.\n",
      "  \"\"\"Entry point for launching an IPython kernel.\n"
     ]
    },
    {
     "name": "stdout",
     "output_type": "stream",
     "text": [
      "Train on 5359 samples, validate on 2641 samples\n",
      "Epoch 1/100\n",
      "5359/5359 [==============================] - 3s 518us/step - loss: 0.7095 - accuracy: 0.6835 - val_loss: 0.5093 - val_accuracy: 0.7910\n",
      "Epoch 2/100\n",
      "5359/5359 [==============================] - 1s 245us/step - loss: 0.4865 - accuracy: 0.8005 - val_loss: 0.4744 - val_accuracy: 0.8035\n",
      "Epoch 3/100\n",
      "5359/5359 [==============================] - 1s 248us/step - loss: 0.4642 - accuracy: 0.8052 - val_loss: 0.4629 - val_accuracy: 0.8076\n",
      "Epoch 4/100\n",
      "5359/5359 [==============================] - 1s 208us/step - loss: 0.4537 - accuracy: 0.8113 - val_loss: 0.4579 - val_accuracy: 0.8073\n",
      "Epoch 5/100\n",
      "5359/5359 [==============================] - 1s 273us/step - loss: 0.4475 - accuracy: 0.8085 - val_loss: 0.4526 - val_accuracy: 0.8099\n",
      "Epoch 6/100\n",
      "5359/5359 [==============================] - 2s 283us/step - loss: 0.4417 - accuracy: 0.8140 - val_loss: 0.4499 - val_accuracy: 0.8107\n",
      "Epoch 7/100\n",
      "5359/5359 [==============================] - 1s 200us/step - loss: 0.4371 - accuracy: 0.8125 - val_loss: 0.4469 - val_accuracy: 0.8107\n",
      "Epoch 8/100\n",
      "5359/5359 [==============================] - 1s 194us/step - loss: 0.4328 - accuracy: 0.8151 - val_loss: 0.4427 - val_accuracy: 0.8114\n",
      "Epoch 9/100\n",
      "5359/5359 [==============================] - 1s 187us/step - loss: 0.4287 - accuracy: 0.8177 - val_loss: 0.4396 - val_accuracy: 0.8122\n",
      "Epoch 10/100\n",
      "5359/5359 [==============================] - 1s 184us/step - loss: 0.4244 - accuracy: 0.8188 - val_loss: 0.4361 - val_accuracy: 0.8145\n",
      "Epoch 11/100\n",
      "5359/5359 [==============================] - 1s 180us/step - loss: 0.4200 - accuracy: 0.8238 - val_loss: 0.4313 - val_accuracy: 0.8175\n",
      "Epoch 12/100\n",
      "5359/5359 [==============================] - 1s 179us/step - loss: 0.4145 - accuracy: 0.8283 - val_loss: 0.4284 - val_accuracy: 0.8179\n",
      "Epoch 13/100\n",
      "5359/5359 [==============================] - 1s 186us/step - loss: 0.4092 - accuracy: 0.8280 - val_loss: 0.4215 - val_accuracy: 0.8205\n",
      "Epoch 14/100\n",
      "5359/5359 [==============================] - 1s 187us/step - loss: 0.4034 - accuracy: 0.8324 - val_loss: 0.4162 - val_accuracy: 0.8236\n",
      "Epoch 15/100\n",
      "5359/5359 [==============================] - 1s 184us/step - loss: 0.3971 - accuracy: 0.8332 - val_loss: 0.4110 - val_accuracy: 0.8251\n",
      "Epoch 16/100\n",
      "5359/5359 [==============================] - 1s 184us/step - loss: 0.3910 - accuracy: 0.8336 - val_loss: 0.4078 - val_accuracy: 0.8254\n",
      "Epoch 17/100\n",
      "5359/5359 [==============================] - 1s 183us/step - loss: 0.3859 - accuracy: 0.8356 - val_loss: 0.4041 - val_accuracy: 0.8243\n",
      "Epoch 18/100\n",
      "5359/5359 [==============================] - 1s 187us/step - loss: 0.3816 - accuracy: 0.8373 - val_loss: 0.4012 - val_accuracy: 0.8266\n",
      "Epoch 19/100\n",
      "5359/5359 [==============================] - 1s 177us/step - loss: 0.3781 - accuracy: 0.8386 - val_loss: 0.3983 - val_accuracy: 0.8277\n",
      "Epoch 20/100\n",
      "5359/5359 [==============================] - 1s 198us/step - loss: 0.3744 - accuracy: 0.8405 - val_loss: 0.3958 - val_accuracy: 0.8281\n",
      "Epoch 21/100\n",
      "5359/5359 [==============================] - 1s 234us/step - loss: 0.3718 - accuracy: 0.8418 - val_loss: 0.3947 - val_accuracy: 0.8273\n",
      "Epoch 22/100\n",
      "5359/5359 [==============================] - 1s 235us/step - loss: 0.3695 - accuracy: 0.8440 - val_loss: 0.3940 - val_accuracy: 0.8273\n",
      "Epoch 23/100\n",
      "5359/5359 [==============================] - 1s 234us/step - loss: 0.3674 - accuracy: 0.8455 - val_loss: 0.3921 - val_accuracy: 0.8292\n",
      "Epoch 24/100\n",
      "5359/5359 [==============================] - 1s 220us/step - loss: 0.3657 - accuracy: 0.8447 - val_loss: 0.3903 - val_accuracy: 0.8319\n",
      "Epoch 25/100\n",
      "5359/5359 [==============================] - 1s 209us/step - loss: 0.3642 - accuracy: 0.8455 - val_loss: 0.3896 - val_accuracy: 0.8300\n",
      "Epoch 26/100\n",
      "5359/5359 [==============================] - 1s 204us/step - loss: 0.3627 - accuracy: 0.8449 - val_loss: 0.3883 - val_accuracy: 0.8338\n",
      "Epoch 27/100\n",
      "5359/5359 [==============================] - 1s 213us/step - loss: 0.3612 - accuracy: 0.8487 - val_loss: 0.3889 - val_accuracy: 0.8349\n",
      "Epoch 28/100\n",
      "5359/5359 [==============================] - 1s 207us/step - loss: 0.3607 - accuracy: 0.8459 - val_loss: 0.3861 - val_accuracy: 0.8360\n",
      "Epoch 29/100\n",
      "5359/5359 [==============================] - 1s 206us/step - loss: 0.3595 - accuracy: 0.8500 - val_loss: 0.3860 - val_accuracy: 0.8326\n",
      "Epoch 30/100\n",
      "5359/5359 [==============================] - 1s 207us/step - loss: 0.3589 - accuracy: 0.8492 - val_loss: 0.3844 - val_accuracy: 0.8342\n",
      "Epoch 31/100\n",
      "5359/5359 [==============================] - 1s 201us/step - loss: 0.3579 - accuracy: 0.8496 - val_loss: 0.3847 - val_accuracy: 0.8353\n",
      "Epoch 32/100\n",
      "5359/5359 [==============================] - 1s 210us/step - loss: 0.3567 - accuracy: 0.8489 - val_loss: 0.3840 - val_accuracy: 0.8349\n",
      "Epoch 33/100\n",
      "5359/5359 [==============================] - 1s 199us/step - loss: 0.3563 - accuracy: 0.8498 - val_loss: 0.3831 - val_accuracy: 0.8334\n",
      "Epoch 34/100\n",
      "5359/5359 [==============================] - 1s 227us/step - loss: 0.3552 - accuracy: 0.8515 - val_loss: 0.3816 - val_accuracy: 0.8357\n",
      "Epoch 35/100\n",
      "5359/5359 [==============================] - 1s 253us/step - loss: 0.3546 - accuracy: 0.8507 - val_loss: 0.3817 - val_accuracy: 0.8379\n",
      "Epoch 36/100\n",
      "5359/5359 [==============================] - 1s 205us/step - loss: 0.3529 - accuracy: 0.8490 - val_loss: 0.3810 - val_accuracy: 0.8357\n",
      "Epoch 37/100\n",
      "5359/5359 [==============================] - 1s 199us/step - loss: 0.3522 - accuracy: 0.8533 - val_loss: 0.3852 - val_accuracy: 0.8357\n",
      "Epoch 38/100\n",
      "5359/5359 [==============================] - 1s 204us/step - loss: 0.3522 - accuracy: 0.8531 - val_loss: 0.3797 - val_accuracy: 0.8338\n",
      "Epoch 39/100\n",
      "5359/5359 [==============================] - 1s 199us/step - loss: 0.3515 - accuracy: 0.8522 - val_loss: 0.3799 - val_accuracy: 0.8357\n",
      "Epoch 40/100\n",
      "5359/5359 [==============================] - 1s 209us/step - loss: 0.3507 - accuracy: 0.8524 - val_loss: 0.3784 - val_accuracy: 0.8357\n",
      "Epoch 41/100\n",
      "5359/5359 [==============================] - 1s 202us/step - loss: 0.3503 - accuracy: 0.8522 - val_loss: 0.3801 - val_accuracy: 0.8383\n",
      "Epoch 42/100\n",
      "5359/5359 [==============================] - 1s 207us/step - loss: 0.3496 - accuracy: 0.8520 - val_loss: 0.3781 - val_accuracy: 0.8364\n",
      "Epoch 43/100\n",
      "5359/5359 [==============================] - 1s 198us/step - loss: 0.3489 - accuracy: 0.8539 - val_loss: 0.3788 - val_accuracy: 0.8376\n",
      "Epoch 44/100\n",
      "5359/5359 [==============================] - 1s 207us/step - loss: 0.3484 - accuracy: 0.8537 - val_loss: 0.3781 - val_accuracy: 0.8353\n",
      "Epoch 45/100\n",
      "5359/5359 [==============================] - 1s 204us/step - loss: 0.3471 - accuracy: 0.8517 - val_loss: 0.3824 - val_accuracy: 0.8387\n",
      "Epoch 46/100\n",
      "5359/5359 [==============================] - 1s 208us/step - loss: 0.3468 - accuracy: 0.8524 - val_loss: 0.3773 - val_accuracy: 0.8349\n",
      "Epoch 47/100\n",
      "5359/5359 [==============================] - 1s 206us/step - loss: 0.3461 - accuracy: 0.8537 - val_loss: 0.3778 - val_accuracy: 0.8357\n",
      "Epoch 48/100\n",
      "5359/5359 [==============================] - 1s 228us/step - loss: 0.3453 - accuracy: 0.8548 - val_loss: 0.3771 - val_accuracy: 0.8353\n",
      "Epoch 49/100\n",
      "5359/5359 [==============================] - 1s 262us/step - loss: 0.3451 - accuracy: 0.8548 - val_loss: 0.3776 - val_accuracy: 0.8360\n",
      "Epoch 50/100\n",
      "5359/5359 [==============================] - 1s 200us/step - loss: 0.3445 - accuracy: 0.8576 - val_loss: 0.3774 - val_accuracy: 0.8364\n",
      "Epoch 51/100\n",
      "5359/5359 [==============================] - 1s 202us/step - loss: 0.3439 - accuracy: 0.8572 - val_loss: 0.3775 - val_accuracy: 0.8368\n",
      "Epoch 52/100\n",
      "5359/5359 [==============================] - 1s 200us/step - loss: 0.3435 - accuracy: 0.8559 - val_loss: 0.3766 - val_accuracy: 0.8368\n",
      "Epoch 53/100\n",
      "5359/5359 [==============================] - 1s 205us/step - loss: 0.3430 - accuracy: 0.8580 - val_loss: 0.3779 - val_accuracy: 0.8372\n",
      "Epoch 54/100\n",
      "5359/5359 [==============================] - 1s 199us/step - loss: 0.3426 - accuracy: 0.8571 - val_loss: 0.3760 - val_accuracy: 0.8376\n",
      "Epoch 55/100\n",
      "5359/5359 [==============================] - 1s 200us/step - loss: 0.3422 - accuracy: 0.8591 - val_loss: 0.3766 - val_accuracy: 0.8402\n",
      "Epoch 56/100\n"
     ]
    },
    {
     "name": "stdout",
     "output_type": "stream",
     "text": [
      "5359/5359 [==============================] - 1s 193us/step - loss: 0.3413 - accuracy: 0.8578 - val_loss: 0.3747 - val_accuracy: 0.8395\n",
      "Epoch 57/100\n",
      "5359/5359 [==============================] - 1s 196us/step - loss: 0.3410 - accuracy: 0.8580 - val_loss: 0.3736 - val_accuracy: 0.8402\n",
      "Epoch 58/100\n",
      "5359/5359 [==============================] - 1s 199us/step - loss: 0.3398 - accuracy: 0.8593 - val_loss: 0.3740 - val_accuracy: 0.8395\n",
      "Epoch 59/100\n",
      "5359/5359 [==============================] - 1s 197us/step - loss: 0.3394 - accuracy: 0.8593 - val_loss: 0.3726 - val_accuracy: 0.8398\n",
      "Epoch 60/100\n",
      "5359/5359 [==============================] - 1s 192us/step - loss: 0.3390 - accuracy: 0.8597 - val_loss: 0.3731 - val_accuracy: 0.8421\n",
      "Epoch 61/100\n",
      "5359/5359 [==============================] - 1s 197us/step - loss: 0.3389 - accuracy: 0.8597 - val_loss: 0.3724 - val_accuracy: 0.8417\n",
      "Epoch 62/100\n",
      "5359/5359 [==============================] - 1s 209us/step - loss: 0.3385 - accuracy: 0.8578 - val_loss: 0.3714 - val_accuracy: 0.8413\n",
      "Epoch 63/100\n",
      "5359/5359 [==============================] - 1s 236us/step - loss: 0.3383 - accuracy: 0.8587 - val_loss: 0.3720 - val_accuracy: 0.8432\n",
      "Epoch 64/100\n",
      "5359/5359 [==============================] - 1s 228us/step - loss: 0.3379 - accuracy: 0.8608 - val_loss: 0.3717 - val_accuracy: 0.8451\n",
      "Epoch 65/100\n",
      "5359/5359 [==============================] - 1s 199us/step - loss: 0.3374 - accuracy: 0.8608 - val_loss: 0.3706 - val_accuracy: 0.8436\n",
      "Epoch 66/100\n",
      "5359/5359 [==============================] - 1s 199us/step - loss: 0.3378 - accuracy: 0.8617 - val_loss: 0.3704 - val_accuracy: 0.8470\n",
      "Epoch 67/100\n",
      "5359/5359 [==============================] - 1s 200us/step - loss: 0.3366 - accuracy: 0.8617 - val_loss: 0.3713 - val_accuracy: 0.8436\n",
      "Epoch 68/100\n",
      "5359/5359 [==============================] - 1s 215us/step - loss: 0.3365 - accuracy: 0.8615 - val_loss: 0.3704 - val_accuracy: 0.8448\n",
      "Epoch 69/100\n",
      "5359/5359 [==============================] - 1s 210us/step - loss: 0.3361 - accuracy: 0.8636 - val_loss: 0.3712 - val_accuracy: 0.8451\n",
      "Epoch 70/100\n",
      "5359/5359 [==============================] - 1s 235us/step - loss: 0.3361 - accuracy: 0.8612 - val_loss: 0.3709 - val_accuracy: 0.8459\n",
      "Epoch 71/100\n",
      "5359/5359 [==============================] - 1s 222us/step - loss: 0.3356 - accuracy: 0.8614 - val_loss: 0.3719 - val_accuracy: 0.8421\n",
      "Epoch 72/100\n",
      "5359/5359 [==============================] - 1s 216us/step - loss: 0.3356 - accuracy: 0.8621 - val_loss: 0.3707 - val_accuracy: 0.8455\n",
      "Epoch 73/100\n",
      "5359/5359 [==============================] - 1s 210us/step - loss: 0.3351 - accuracy: 0.8604 - val_loss: 0.3701 - val_accuracy: 0.8436\n",
      "Epoch 74/100\n",
      "5359/5359 [==============================] - 1s 245us/step - loss: 0.3353 - accuracy: 0.8604 - val_loss: 0.3698 - val_accuracy: 0.8440\n",
      "Epoch 75/100\n",
      "5359/5359 [==============================] - 1s 215us/step - loss: 0.3348 - accuracy: 0.8625 - val_loss: 0.3728 - val_accuracy: 0.8436\n",
      "Epoch 76/100\n",
      "5359/5359 [==============================] - 1s 227us/step - loss: 0.3351 - accuracy: 0.8608 - val_loss: 0.3691 - val_accuracy: 0.8455\n",
      "Epoch 77/100\n",
      "5359/5359 [==============================] - 1s 279us/step - loss: 0.3352 - accuracy: 0.8640 - val_loss: 0.3694 - val_accuracy: 0.8482\n",
      "Epoch 78/100\n",
      "5359/5359 [==============================] - 1s 229us/step - loss: 0.3348 - accuracy: 0.8625 - val_loss: 0.3696 - val_accuracy: 0.8425\n",
      "Epoch 79/100\n",
      "5359/5359 [==============================] - 1s 215us/step - loss: 0.3342 - accuracy: 0.8614 - val_loss: 0.3754 - val_accuracy: 0.8406\n",
      "Epoch 80/100\n",
      "5359/5359 [==============================] - 1s 216us/step - loss: 0.3340 - accuracy: 0.8621 - val_loss: 0.3681 - val_accuracy: 0.8485\n",
      "Epoch 81/100\n",
      "5359/5359 [==============================] - 1s 214us/step - loss: 0.3342 - accuracy: 0.8623 - val_loss: 0.3682 - val_accuracy: 0.8440\n",
      "Epoch 82/100\n",
      "5359/5359 [==============================] - 1s 219us/step - loss: 0.3340 - accuracy: 0.8642 - val_loss: 0.3677 - val_accuracy: 0.8497\n",
      "Epoch 83/100\n",
      "5359/5359 [==============================] - 1s 226us/step - loss: 0.3337 - accuracy: 0.8606 - val_loss: 0.3674 - val_accuracy: 0.8470\n",
      "Epoch 84/100\n",
      "5359/5359 [==============================] - 1s 221us/step - loss: 0.3337 - accuracy: 0.8636 - val_loss: 0.3668 - val_accuracy: 0.8455\n",
      "Epoch 85/100\n",
      "5359/5359 [==============================] - 1s 219us/step - loss: 0.3333 - accuracy: 0.8634 - val_loss: 0.3680 - val_accuracy: 0.8485\n",
      "Epoch 86/100\n",
      "5359/5359 [==============================] - 1s 205us/step - loss: 0.3333 - accuracy: 0.8638 - val_loss: 0.3671 - val_accuracy: 0.8459\n",
      "Epoch 87/100\n",
      "5359/5359 [==============================] - 1s 227us/step - loss: 0.3332 - accuracy: 0.8636 - val_loss: 0.3670 - val_accuracy: 0.8470\n",
      "Epoch 88/100\n",
      "5359/5359 [==============================] - 1s 254us/step - loss: 0.3330 - accuracy: 0.8634 - val_loss: 0.3686 - val_accuracy: 0.8466\n",
      "Epoch 89/100\n",
      "5359/5359 [==============================] - 1s 181us/step - loss: 0.3334 - accuracy: 0.8640 - val_loss: 0.3654 - val_accuracy: 0.8482\n",
      "Epoch 90/100\n",
      "5359/5359 [==============================] - 1s 219us/step - loss: 0.3329 - accuracy: 0.8615 - val_loss: 0.3669 - val_accuracy: 0.8485\n",
      "Epoch 91/100\n",
      "5359/5359 [==============================] - 2s 298us/step - loss: 0.3325 - accuracy: 0.8651 - val_loss: 0.3657 - val_accuracy: 0.8470\n",
      "Epoch 92/100\n",
      "5359/5359 [==============================] - 1s 209us/step - loss: 0.3324 - accuracy: 0.8643 - val_loss: 0.3654 - val_accuracy: 0.8504\n",
      "Epoch 93/100\n",
      "5359/5359 [==============================] - 1s 208us/step - loss: 0.3317 - accuracy: 0.8638 - val_loss: 0.3660 - val_accuracy: 0.8470\n",
      "Epoch 94/100\n",
      "5359/5359 [==============================] - 1s 238us/step - loss: 0.3324 - accuracy: 0.8627 - val_loss: 0.3658 - val_accuracy: 0.8501\n",
      "Epoch 95/100\n",
      "5359/5359 [==============================] - 1s 208us/step - loss: 0.3322 - accuracy: 0.8645 - val_loss: 0.3651 - val_accuracy: 0.8508\n",
      "Epoch 96/100\n",
      "5359/5359 [==============================] - 1s 208us/step - loss: 0.3322 - accuracy: 0.8625 - val_loss: 0.3656 - val_accuracy: 0.8485\n",
      "Epoch 97/100\n",
      "5359/5359 [==============================] - 1s 203us/step - loss: 0.3318 - accuracy: 0.8643 - val_loss: 0.3653 - val_accuracy: 0.8489\n",
      "Epoch 98/100\n",
      "5359/5359 [==============================] - 1s 208us/step - loss: 0.3318 - accuracy: 0.8649 - val_loss: 0.3663 - val_accuracy: 0.8489\n",
      "Epoch 99/100\n",
      "5359/5359 [==============================] - 1s 206us/step - loss: 0.3313 - accuracy: 0.8643 - val_loss: 0.3651 - val_accuracy: 0.8497\n",
      "Epoch 100/100\n",
      "5359/5359 [==============================] - 1s 207us/step - loss: 0.3313 - accuracy: 0.8640 - val_loss: 0.3660 - val_accuracy: 0.8489\n"
     ]
    }
   ],
   "source": [
    "model_history=classifier.fit(X_train, y_train,validation_split=0.33, batch_size = 10, nb_epoch = 100)"
   ]
  },
  {
   "cell_type": "code",
   "execution_count": 37,
   "metadata": {},
   "outputs": [],
   "source": [
    "y_pred = classifier.predict(X_test)\n",
    "y_pred=(y_pred > 0.5) "
   ]
  },
  {
   "cell_type": "code",
   "execution_count": 40,
   "metadata": {},
   "outputs": [
    {
     "data": {
      "text/plain": [
       "array([[1524,   71],\n",
       "       [ 207,  198]], dtype=int64)"
      ]
     },
     "execution_count": 40,
     "metadata": {},
     "output_type": "execute_result"
    }
   ],
   "source": [
    "from sklearn.metrics import confusion_matrix\n",
    "cm = confusion_matrix(y_test, y_pred)\n",
    "cm"
   ]
  },
  {
   "cell_type": "code",
   "execution_count": 41,
   "metadata": {},
   "outputs": [
    {
     "data": {
      "text/plain": [
       "0.861"
      ]
     },
     "execution_count": 41,
     "metadata": {},
     "output_type": "execute_result"
    }
   ],
   "source": [
    "from sklearn.metrics import accuracy_score\n",
    "score=accuracy_score(y_pred,y_test)\n",
    "score"
   ]
  },
  {
   "cell_type": "code",
   "execution_count": null,
   "metadata": {},
   "outputs": [],
   "source": []
  }
 ],
 "metadata": {
  "kernelspec": {
   "display_name": "Python 3",
   "language": "python",
   "name": "python3"
  },
  "language_info": {
   "codemirror_mode": {
    "name": "ipython",
    "version": 3
   },
   "file_extension": ".py",
   "mimetype": "text/x-python",
   "name": "python",
   "nbconvert_exporter": "python",
   "pygments_lexer": "ipython3",
   "version": "3.7.3"
  }
 },
 "nbformat": 4,
 "nbformat_minor": 2
}
